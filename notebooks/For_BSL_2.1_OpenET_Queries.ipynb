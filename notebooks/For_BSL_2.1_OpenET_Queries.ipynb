{
 "cells": [
  {
   "cell_type": "markdown",
   "metadata": {
    "id": "OrY-6_QUbAMX"
   },
   "source": [
    "The purpose of this script is to retrive the following information from the OpenET API:  \n",
    "-all 6 models and the Ensemble estimates of ET  \n",
    "-dates of landsat overpass  \n",
    "-ET, ETo, ETof, and Precipitation values extracted from SIMS/CIMIS\n",
    "\n",
    "This script carries out the above operations for both the lettuce and broccoli data using dynamic footprints\n",
    "\n",
    "Input files:  \n",
    "Dynamic footprint JSON\n",
    "\n",
    "Output files:  \n",
    "-.csv holding all models and Ensemble estimates of ET  \n",
    "-.csv holding dates of landsat overpass  \n",
    "-.csv holding SIMS ET as well as ETo, ETof, and Precip values collected via CIMIS"
   ]
  },
  {
   "cell_type": "markdown",
   "metadata": {
    "id": "VmIgV3kJbDbM"
   },
   "source": [
    "###Mount Drive"
   ]
  },
  {
   "cell_type": "code",
   "execution_count": null,
   "metadata": {
    "colab": {
     "base_uri": "https://localhost:8080/"
    },
    "executionInfo": {
     "elapsed": 3126,
     "status": "ok",
     "timestamp": 1728671965624,
     "user": {
      "displayName": "Brandon San Luis",
      "userId": "05788026484260503985"
     },
     "user_tz": 420
    },
    "id": "beWx9rdmbDAo",
    "outputId": "44763ce3-de44-4a5a-d436-fe67618ea3fe"
   },
   "outputs": [
    {
     "name": "stdout",
     "output_type": "stream",
     "text": [
      "Drive already mounted at /content/home; to attempt to forcibly remount, call drive.mount(\"/content/home\", force_remount=True).\n"
     ]
    }
   ],
   "source": [
    "try:\n",
    "    from google.colab import drive # type: ignore\n",
    "    drive.mount('/content/home')\n",
    "except ImportError:\n",
    "    pass"
   ]
  },
  {
   "cell_type": "markdown",
   "metadata": {
    "id": "ykgnD7Hnb6yg"
   },
   "source": [
    "###Import Dependencies"
   ]
  },
  {
   "cell_type": "code",
   "execution_count": null,
   "metadata": {
    "id": "iGgoDfyPRZf8"
   },
   "outputs": [],
   "source": [
    "import requests\n",
    "import json\n",
    "import pandas as pd\n",
    "import geopandas as gpd\n",
    "import numpy as np\n",
    "#from matplotlib.dates import DateFormatter\n",
    "#import matplotlib.pyplot as plt"
   ]
  },
  {
   "cell_type": "markdown",
   "metadata": {
    "id": "SSLxkoIDcFUQ"
   },
   "source": [
    "###Declare Custom Functions"
   ]
  },
  {
   "cell_type": "code",
   "execution_count": null,
   "metadata": {
    "id": "EwNgsriicE-9"
   },
   "outputs": [],
   "source": [
    "def openET_API_polygon_query_ET (MY_API_KEY, START_DATE, END_DATE, INTERVAL, GEOMETRY, UNIT):\n",
    "  '''\n",
    "  MY_API_KEY: string\n",
    "  START_DATE: inclusive, string\n",
    "  END_DATE: inclusive, string\n",
    "  INTERVAL: 'daily' or 'monthly'\n",
    "  GEOMETRY: array of coordinates\n",
    "  UNIT: 'mm' or 'in'\n",
    "\n",
    "  '''\n",
    "  #string of all available models\n",
    "  models = ['Ensemble','geeSEBAL','SSEBop','SIMS','DisALEXI','PTJPL','eeMETRIC']\n",
    "\n",
    "  #create df to load up\n",
    "  API_df = pd.DataFrame()\n",
    "\n",
    "  for model in models:\n",
    "    # set your API key before making the request\n",
    "    header = {\"Authorization\": MY_API_KEY}\n",
    "\n",
    "    # endpoint arguments\n",
    "    args = {\n",
    "      \"date_range\": [\n",
    "        START_DATE,\n",
    "        END_DATE\n",
    "      ],\n",
    "      \"interval\": 'INTERVAL',\n",
    "      \"geometry\": GEOMETRY,\n",
    "      \"model\": model,\n",
    "      \"variable\": 'ET',\n",
    "      \"reference_et\": \"CIMIS\",\n",
    "      \"reducer\": \"mean\",\n",
    "      \"units\": UNIT,\n",
    "      \"file_format\": \"JSON\"\n",
    "    }\n",
    "\n",
    "    # query the api\n",
    "    resp = requests.post(\n",
    "        headers=header,\n",
    "        json=args,\n",
    "        url=\"https://openet-api.org/raster/timeseries/polygon\"\n",
    "    )\n",
    "\n",
    "    #print(resp.text)\n",
    "    intermediate_API_df = pd.read_json(resp.text)\n",
    "    API_df['date'] = intermediate_API_df['time']\n",
    "    API_df[model] = intermediate_API_df['et']\n",
    "\n",
    "    #print some statements to show what step\n",
    "    print(model, end='')\n",
    "    print(\" done!\")\n",
    "\n",
    "  #return df\n",
    "  print(\"dataframe created :)\")\n",
    "  return API_df"
   ]
  },
  {
   "cell_type": "code",
   "execution_count": null,
   "metadata": {
    "id": "OcWPMxh9cVKI"
   },
   "outputs": [],
   "source": [
    "def openET_API_polygon_query_ET_overpass (MY_API_KEY, START_DATE, END_DATE, INTERVAL, GEOMETRY, UNIT):\n",
    "  '''\n",
    "  MY_API_KEY: string\n",
    "  START_DATE: inclusive, string\n",
    "  END_DATE: inclusive, string\n",
    "  INTERVAL: 'daily' or 'monthly'\n",
    "  GEOMETRY: array of coordinates\n",
    "  UNIT: 'mm' or 'in'\n",
    "\n",
    "  '''\n",
    "  #string of all available models\n",
    "  models = ['Ensemble']\n",
    "\n",
    "  #create df to load up\n",
    "  API_df = pd.DataFrame()\n",
    "\n",
    "  for model in models:\n",
    "    # set your API key before making the request\n",
    "    header = {\"Authorization\": MY_API_KEY}\n",
    "\n",
    "    # endpoint arguments\n",
    "    args = {\n",
    "      \"date_range\": [\n",
    "        START_DATE,\n",
    "        END_DATE\n",
    "      ],\n",
    "      \"interval\": INTERVAL,\n",
    "      \"geometry\": GEOMETRY,\n",
    "      \"model\": model,\n",
    "      \"variable\": 'ET',\n",
    "      \"reference_et\": \"CIMIS\",\n",
    "      \"reducer\": \"mean\",\n",
    "      \"units\": UNIT,\n",
    "      \"file_format\": \"JSON\",\n",
    "      \"overpass\": \"True\"\n",
    "    }\n",
    "\n",
    "#     # query the api\n",
    "#     resp = requests.post(\n",
    "#         headers=header,\n",
    "#         json=args,\n",
    "#         url=\"https://openet-api.org/raster/timeseries/polygon\"\n",
    "#     )\n",
    "\n",
    "#     #print(resp.text)\n",
    "#     intermediate_API_df = pd.read_json(resp.text)\n",
    "#     API_df['date'] = intermediate_API_df['time']\n",
    "#     API_df[model] = intermediate_API_df['et']\n",
    "\n",
    "#     #print some statements to show what step\n",
    "#     print(model, end='')\n",
    "#     print(\" overpass done!\")\n",
    "\n",
    "#   #return df\n",
    "#   print(\"dataframe created :)\")\n",
    "#   return API_df"
   ]
  },
  {
   "cell_type": "code",
   "execution_count": null,
   "metadata": {
    "id": "zkJ95SVUc9YN"
   },
   "outputs": [],
   "source": [
    "def openET_API_polygon_query_SIMS_allET (MY_API_KEY, START_DATE, END_DATE, INTERVAL, GEOMETRY, UNIT):\n",
    "  '''\n",
    "  MY_API_KEY: string\n",
    "  START_DATE: inclusive, string\n",
    "  END_DATE: inclusive, string\n",
    "  INTERVAL: 'daily' or 'monthly'\n",
    "  GEOMETRY: array of coordinates\n",
    "  UNIT: 'mm' or 'in'\n",
    "\n",
    "  '''\n",
    "  #string of all available models\n",
    "  vars = ['ET', 'ETo', 'ETof', 'PR']\n",
    "\n",
    "  #create df to load up\n",
    "  API_df = pd.DataFrame()\n",
    "\n",
    "  for var in vars:\n",
    "    # set your API key before making the request\n",
    "    header = {\"Authorization\": MY_API_KEY}\n",
    "\n",
    "    # endpoint arguments\n",
    "    args = {\n",
    "      \"date_range\": [\n",
    "        START_DATE,\n",
    "        END_DATE\n",
    "      ],\n",
    "      \"interval\": INTERVAL,\n",
    "      \"geometry\": GEOMETRY,\n",
    "      \"model\": 'SIMS',\n",
    "      \"variable\": var,\n",
    "      \"reference_et\": \"CIMIS\",\n",
    "      \"reducer\": \"mean\",\n",
    "      \"units\": UNIT,\n",
    "      \"file_format\": \"JSON\"\n",
    "    }\n",
    "\n",
    "#     # query the api\n",
    "#     resp = requests.post(\n",
    "#         headers=header,\n",
    "#         json=args,\n",
    "#         url=\"https://openet-api.org/raster/timeseries/polygon\"\n",
    "#     )\n",
    "\n",
    "#     #print(resp.text)\n",
    "#     intermediate_API_df = pd.read_json(resp.text)\n",
    "#     API_df['date'] = intermediate_API_df['time']\n",
    "#     API_df[var] = intermediate_API_df[intermediate_API_df.columns[1]]\n",
    "\n",
    "#     #print some statements to show what step\n",
    "#     print(var, end='')\n",
    "#     print(\" done!\")\n",
    "\n",
    "#   #return df\n",
    "#   print(\"dataframe created :)\")\n",
    "#   return API_df"
   ]
  },
  {
   "cell_type": "markdown",
   "metadata": {
    "id": "UnsgLclccJKc"
   },
   "source": [
    "###Set Directories and Declare Variables"
   ]
  },
  {
   "cell_type": "code",
   "execution_count": null,
   "metadata": {
    "colab": {
     "base_uri": "https://localhost:8080/"
    },
    "executionInfo": {
     "elapsed": 347,
     "status": "ok",
     "timestamp": 1728671984477,
     "user": {
      "displayName": "Brandon San Luis",
      "userId": "05788026484260503985"
     },
     "user_tz": 420
    },
    "id": "yDcEdMIvdZ6t",
    "outputId": "13aee237-fca2-4ab4-a149-a4aabcd815d2"
   },
   "outputs": [
    {
     "name": "stdout",
     "output_type": "stream",
     "text": [
      "Geometry source from: \n",
      "/content/home/Shareddrives/WATRS_Field_Data/Publications_Presentations_And_Supporting_Documents/Solymar_et_al_Lettuce_Broccoli_2023/Data/Footprint_Polygons/Broccoli/Broccoli2023_FootprintFinal.json\n",
      "Files will be saved at: N/A\n"
     ]
    }
   ],
   "source": [
    "MAIN_DIR = '/content/home/MyDrive/B_SanLuis'\n",
    "\n",
    "#'TRUE' or 'FALSE' depending on whether you would like to export the dataframes as .csv\n",
    "SAVE_EXPORTS = 'FALSE'\n",
    "\n",
    "#Choose between 'Lettuce' or 'Broccoli\n",
    "CROP_OF_CONCERN = 'Broccoli'\n",
    "\n",
    "#update API key here\n",
    "MY_KEY = '095Ip2n5f3pJFLh4YHdk6CSdbPezttwadaEgJ5ZHZSSbKXszgLmP51nKIt7i'\n",
    "\n",
    "if CROP_OF_CONCERN == 'Lettuce':\n",
    "  START_DATE = '2023-04-19'\n",
    "  END_DATE = '2023-06-20'\n",
    "  OVERPASS_START_DATE = '2023-04-11'  # +/-8 days from start/end\n",
    "  OVERPASS_END_DATE = '2023-06-28'\n",
    "  GEOMETRY_FILE = MAIN_DIR + '/Data/Lettuce2023Final.geojson'\n",
    "  print(\"Geometry source from: \")\n",
    "  print(GEOMETRY_FILE)\n",
    "  print(\"Files will be saved at: N/A\")\n",
    "\n",
    "if CROP_OF_CONCERN == 'Broccoli':\n",
    "  START_DATE = '2023-07-21'\n",
    "  END_DATE = '2023-10-04'\n",
    "  OVERPASS_START_DATE = '2023-07-13'  # +/-8 days from start/end\n",
    "  OVERPASS_END_DATE = '2023-10-12'\n",
    "  GEOMETRY_FILE = '/content/home/Shareddrives/WATRS_Field_Data/Publications_Presentations_And_Supporting_Documents/Solymar_et_al_Lettuce_Broccoli_2023/Data/Footprint_Polygons/Broccoli/Broccoli2023_FootprintFinal.json'\n",
    "  print(\"Geometry source from: \")\n",
    "  print(GEOMETRY_FILE)\n",
    "  print(\"Files will be saved at: N/A\")\n",
    "\n",
    "if CROP_OF_CONCERN == 'Lettuce2024':\n",
    "  START_DATE = '2024-04-'\n",
    "  END_DATE = '2024-06-14'\n",
    "  OVERPASS_START_DATE = '2024-04-02'  # +/-8 days from start/end\n",
    "  OVERPASS_END_DATE = '2024-06-22'\n",
    "  GEOMETRY_FILE = MAIN_DIR + '/Data/Lettuce2024Final.geojson'\n",
    "  print(\"Geometry source from: \")\n",
    "  print(GEOMETRY_FILE)\n",
    "  print(\"Files will be saved at: N/A\")\n"
   ]
  },
  {
   "cell_type": "markdown",
   "metadata": {
    "id": "PiMUPFFofC9M"
   },
   "source": [
    "###Create Coordinate List for OpenET"
   ]
  },
  {
   "cell_type": "code",
   "execution_count": null,
   "metadata": {
    "id": "nG34I3Y2fFeE"
   },
   "outputs": [],
   "source": [
    "FOOTPRINT_GEOM = gpd.read_file(GEOMETRY_FILE)\n",
    "FOOTPRINT_GEOM_JSON = json.loads(FOOTPRINT_GEOM.to_json())"
   ]
  },
  {
   "cell_type": "code",
   "execution_count": null,
   "metadata": {
    "id": "i8Usn9ZjfGNQ"
   },
   "outputs": [],
   "source": [
    "MY_COORDS = np.array(FOOTPRINT_GEOM_JSON[\"features\"][0][\"geometry\"][\"coordinates\"])"
   ]
  },
  {
   "cell_type": "code",
   "execution_count": null,
   "metadata": {
    "id": "RNbiv-QqfIX7"
   },
   "outputs": [],
   "source": [
    "COORD_LIST = ([])\n",
    "for i in range(0,MY_COORDS.shape[1]):\n",
    "  COORD_LIST.append(MY_COORDS[0][i][0])\n",
    "  COORD_LIST.append(MY_COORDS[0][i][1])"
   ]
  },
  {
   "cell_type": "markdown",
   "metadata": {
    "id": "a--FNO_vfQwI"
   },
   "source": [
    "###Run API Queries"
   ]
  },
  {
   "cell_type": "code",
   "execution_count": null,
   "metadata": {
    "colab": {
     "base_uri": "https://localhost:8080/",
     "height": 139
    },
    "executionInfo": {
     "elapsed": 568,
     "status": "error",
     "timestamp": 1728681820232,
     "user": {
      "displayName": "Brandon San Luis",
      "userId": "05788026484260503985"
     },
     "user_tz": 420
    },
    "id": "ltPrNCjMfSQ5",
    "outputId": "eb1d9fd3-1e25-4715-f6ea-ae8848dd3a6d"
   },
   "outputs": [
    {
     "ename": "NameError",
     "evalue": "name 'openET_API_polygon_query_ET' is not defined",
     "output_type": "error",
     "traceback": [
      "\u001b[0;31m---------------------------------------------------------------------------\u001b[0m",
      "\u001b[0;31mNameError\u001b[0m                                 Traceback (most recent call last)",
      "\u001b[0;32m<ipython-input-1-aaf506b3e776>\u001b[0m in \u001b[0;36m<cell line: 1>\u001b[0;34m()\u001b[0m\n\u001b[0;32m----> 1\u001b[0;31m \u001b[0mET_df\u001b[0m \u001b[0;34m=\u001b[0m \u001b[0mopenET_API_polygon_query_ET\u001b[0m\u001b[0;34m(\u001b[0m\u001b[0mMY_KEY\u001b[0m\u001b[0;34m,\u001b[0m\u001b[0mSTART_DATE\u001b[0m\u001b[0;34m,\u001b[0m\u001b[0mEND_DATE\u001b[0m\u001b[0;34m,\u001b[0m\u001b[0;34m'daily'\u001b[0m\u001b[0;34m,\u001b[0m\u001b[0mCOORD_LIST\u001b[0m\u001b[0;34m,\u001b[0m\u001b[0;34m'mm'\u001b[0m\u001b[0;34m)\u001b[0m\u001b[0;34m\u001b[0m\u001b[0;34m\u001b[0m\u001b[0m\n\u001b[0m",
      "\u001b[0;31mNameError\u001b[0m: name 'openET_API_polygon_query_ET' is not defined"
     ]
    }
   ],
   "source": [
    "ET_df = openET_API_polygon_query_ET(MY_KEY,START_DATE,END_DATE,'daily',COORD_LIST,'mm')"
   ]
  },
  {
   "cell_type": "code",
   "execution_count": null,
   "metadata": {
    "colab": {
     "base_uri": "https://localhost:8080/",
     "height": 139
    },
    "executionInfo": {
     "elapsed": 8,
     "status": "error",
     "timestamp": 1728681820659,
     "user": {
      "displayName": "Brandon San Luis",
      "userId": "05788026484260503985"
     },
     "user_tz": 420
    },
    "id": "PqQCcIGYf_uG",
    "outputId": "30d697d5-0eb1-4983-bbdd-d448a43c3191"
   },
   "outputs": [
    {
     "ename": "NameError",
     "evalue": "name 'ET_df' is not defined",
     "output_type": "error",
     "traceback": [
      "\u001b[0;31m---------------------------------------------------------------------------\u001b[0m",
      "\u001b[0;31mNameError\u001b[0m                                 Traceback (most recent call last)",
      "\u001b[0;32m<ipython-input-2-07ea3923544f>\u001b[0m in \u001b[0;36m<cell line: 1>\u001b[0;34m()\u001b[0m\n\u001b[0;32m----> 1\u001b[0;31m \u001b[0mET_df\u001b[0m\u001b[0;34m\u001b[0m\u001b[0;34m\u001b[0m\u001b[0m\n\u001b[0m",
      "\u001b[0;31mNameError\u001b[0m: name 'ET_df' is not defined"
     ]
    }
   ],
   "source": [
    "ET_df"
   ]
  },
  {
   "cell_type": "code",
   "execution_count": null,
   "metadata": {
    "id": "1pOPt-MMgtn3"
   },
   "outputs": [],
   "source": [
    "overpass_df = openET_API_polygon_query_ET_overpass(MY_KEY,OVERPASS_START_DATE,OVERPASS_END_DATE,'daily',COORD_LIST,'mm')"
   ]
  },
  {
   "cell_type": "code",
   "execution_count": null,
   "metadata": {
    "id": "PyHYpiN-gz2b"
   },
   "outputs": [],
   "source": [
    "overpass_df"
   ]
  },
  {
   "cell_type": "code",
   "execution_count": null,
   "metadata": {
    "id": "XYIaNKTciKmh"
   },
   "outputs": [],
   "source": [
    "SIMS_all_df = openET_API_polygon_query_SIMS_allET(MY_KEY,START_DATE,END_DATE,'daily',COORD_LIST,'mm')"
   ]
  },
  {
   "cell_type": "code",
   "execution_count": null,
   "metadata": {
    "id": "fB-Uht47iiys"
   },
   "outputs": [],
   "source": [
    "SIMS_all_df"
   ]
  },
  {
   "cell_type": "code",
   "execution_count": null,
   "metadata": {
    "id": "s_EEcey9vmvu"
   },
   "outputs": [],
   "source": [
    "header = {\"Authorization\": '095Ip2n5f3pJFLh4YHdk6CSdbPezttwadaEgJ5ZHZSSbKXszgLmP51nKIt7i'}\n",
    "# endpoint arguments\n",
    "args = {\n",
    "  \"date_range\": [\n",
    "    '2023-07-21',\n",
    "    '2023-10-04'\n",
    "  ],\n",
    "  \"interval\": 'daily',\n",
    "  \"geometry\": COORD_LIST,\n",
    "  \"model\": 'Ensemble',\n",
    "  \"variable\": 'ET',\n",
    "  \"reference_et\": \"CIMIS\",\n",
    "  \"reducer\": \"mean\",\n",
    "  \"units\": 'mm',\n",
    "  \"file_format\": \"JSON\"\n",
    "}\n",
    "# query the api\n",
    "resp = requests.post(\n",
    "    headers=header,\n",
    "    json=args,\n",
    "    url=\"https://openet-api.org/raster/timeseries/polygon\"\n",
    ")\n"
   ]
  },
  {
   "cell_type": "code",
   "execution_count": null,
   "metadata": {
    "colab": {
     "base_uri": "https://localhost:8080/",
     "height": 154
    },
    "executionInfo": {
     "elapsed": 721,
     "status": "ok",
     "timestamp": 1728673869913,
     "user": {
      "displayName": "Brandon San Luis",
      "userId": "05788026484260503985"
     },
     "user_tz": 420
    },
    "id": "2JStlomfwfX-",
    "outputId": "3840313c-7021-4ff8-f604-c22fbc588dd5"
   },
   "outputs": [
    {
     "data": {
      "application/vnd.google.colaboratory.intrinsic+json": {
       "type": "string"
      },
      "text/plain": [
       "'[\\n    {\\n        \"time\":\"2023-07-21\",\\n        \"et\":2.409\\n    },\\n    {\\n        \"time\":\"2023-07-22\",\\n        \"et\":2.089\\n    },\\n    {\\n        \"time\":\"2023-07-23\",\\n        \"et\":1.635\\n    },\\n    {\\n        \"time\":\"2023-07-24\",\\n        \"et\":1.477\\n    },\\n    {\\n        \"time\":\"2023-07-25\",\\n        \"et\":1.233\\n    },\\n    {\\n        \"time\":\"2023-07-26\",\\n        \"et\":2.811\\n    },\\n    {\\n        \"time\":\"2023-07-27\",\\n        \"et\":2.833\\n    },\\n    {\\n        \"time\":\"2023-07-28\",\\n        \"et\":2.95\\n    },\\n    {\\n        \"time\":\"2023-07-29\",\\n        \"et\":3.093\\n    },\\n    {\\n        \"time\":\"2023-07-30\",\\n        \"et\":3.115\\n    },\\n    {\\n        \"time\":\"2023-07-31\",\\n        \"et\":2.817\\n    },\\n    {\\n        \"time\":\"2023-08-01\",\\n        \"et\":2.458\\n    },\\n    {\\n        \"time\":\"2023-08-02\",\\n        \"et\":2.265\\n    },\\n    {\\n        \"time\":\"2023-08-03\",\\n        \"et\":2.733\\n    },\\n    {\\n        \"time\":\"2023-08-04\",\\n        \"et\":2.403\\n    },\\n    {\\n        \"time\":\"2023-08-05\",\\n        \"et\":2.385\\n    },\\n    {\\n        \"time\":\"2023-08-06\",\\n        \"et\":2.516\\n    },\\n    {\\n        \"time\":\"2023-08-07\",\\n        \"et\":2.251\\n    },\\n    {\\n        \"time\":\"2023-08-08\",\\n        \"et\":1.819\\n    },\\n    {\\n        \"time\":\"2023-08-09\",\\n        \"et\":1.86\\n    },\\n    {\\n        \"time\":\"2023-08-10\",\\n        \"et\":1.779\\n    },\\n    {\\n        \"time\":\"2023-08-11\",\\n        \"et\":2.745\\n    },\\n    {\\n        \"time\":\"2023-08-12\",\\n        \"et\":2.932\\n    },\\n    {\\n        \"time\":\"2023-08-13\",\\n        \"et\":2.962\\n    },\\n    {\\n        \"time\":\"2023-08-14\",\\n        \"et\":2.97\\n    },\\n    {\\n        \"time\":\"2023-08-15\",\\n        \"et\":2.92\\n    },\\n    {\\n        \"time\":\"2023-08-16\",\\n        \"et\":2.925\\n    },\\n    {\\n        \"time\":\"2023-08-17\",\\n        \"et\":2.724\\n    },\\n    {\\n        \"time\":\"2023-08-18\",\\n        \"et\":2.528\\n    },\\n    {\\n        \"time\":\"2023-08-19\",\\n        \"et\":3.735\\n    },\\n    {\\n        \"time\":\"2023-08-20\",\\n        \"et\":3.963\\n    },\\n    {\\n        \"time\":\"2023-08-21\",\\n        \"et\":2.851\\n    },\\n    {\\n        \"time\":\"2023-08-22\",\\n        \"et\":4.452\\n    },\\n    {\\n        \"time\":\"2023-08-23\",\\n        \"et\":5.175\\n    },\\n    {\\n        \"time\":\"2023-08-24\",\\n        \"et\":4.228\\n    },\\n    {\\n        \"time\":\"2023-08-25\",\\n        \"et\":4.248\\n    },\\n    {\\n        \"time\":\"2023-08-26\",\\n        \"et\":4.101\\n    },\\n    {\\n        \"time\":\"2023-08-27\",\\n        \"et\":5.011\\n    },\\n    {\\n        \"time\":\"2023-08-28\",\\n        \"et\":5.298\\n    },\\n    {\\n        \"time\":\"2023-08-29\",\\n        \"et\":5.247\\n    },\\n    {\\n        \"time\":\"2023-08-30\",\\n        \"et\":5.865\\n    },\\n    {\\n        \"time\":\"2023-08-31\",\\n        \"et\":4.297\\n    },\\n    {\\n        \"time\":\"2023-09-01\",\\n        \"et\":4.085\\n    },\\n    {\\n        \"time\":\"2023-09-02\",\\n        \"et\":3.387\\n    },\\n    {\\n        \"time\":\"2023-09-03\",\\n        \"et\":4.2\\n    },\\n    {\\n        \"time\":\"2023-09-04\",\\n        \"et\":4.304\\n    },\\n    {\\n        \"time\":\"2023-09-05\",\\n        \"et\":4.323\\n    },\\n    {\\n        \"time\":\"2023-09-06\",\\n        \"et\":4.196\\n    },\\n    {\\n        \"time\":\"2023-09-07\",\\n        \"et\":4.102\\n    },\\n    {\\n        \"time\":\"2023-09-08\",\\n        \"et\":5.233\\n    },\\n    {\\n        \"time\":\"2023-09-09\",\\n        \"et\":5.139\\n    },\\n    {\\n        \"time\":\"2023-09-10\",\\n        \"et\":4.995\\n    },\\n    {\\n        \"time\":\"2023-09-11\",\\n        \"et\":4.726\\n    },\\n    {\\n        \"time\":\"2023-09-12\",\\n        \"et\":4.395\\n    },\\n    {\\n        \"time\":\"2023-09-13\",\\n        \"et\":4.112\\n    },\\n    {\\n        \"time\":\"2023-09-14\",\\n        \"et\":4.173\\n    },\\n    {\\n        \"time\":\"2023-09-15\",\\n        \"et\":4.088\\n    },\\n    {\\n        \"time\":\"2023-09-16\",\\n        \"et\":3.582\\n    },\\n    {\\n        \"time\":\"2023-09-17\",\\n        \"et\":4.239\\n    },\\n    {\\n        \"time\":\"2023-09-18\",\\n        \"et\":3.274\\n    },\\n    {\\n        \"time\":\"2023-09-19\",\\n        \"et\":4.003\\n    },\\n    {\\n        \"time\":\"2023-09-20\",\\n        \"et\":3.242\\n    },\\n    {\\n        \"time\":\"2023-09-21\",\\n        \"et\":3.784\\n    },\\n    {\\n        \"time\":\"2023-09-22\",\\n        \"et\":3.428\\n    },\\n    {\\n        \"time\":\"2023-09-23\",\\n        \"et\":3.263\\n    },\\n    {\\n        \"time\":\"2023-09-24\",\\n        \"et\":3.096\\n    },\\n    {\\n        \"time\":\"2023-09-25\",\\n        \"et\":3.462\\n    },\\n    {\\n        \"time\":\"2023-09-26\",\\n        \"et\":3.698\\n    },\\n    {\\n        \"time\":\"2023-09-27\",\\n        \"et\":3.828\\n    },\\n    {\\n        \"time\":\"2023-09-28\",\\n        \"et\":3.942\\n    },\\n    {\\n        \"time\":\"2023-09-29\",\\n        \"et\":3.18\\n    },\\n    {\\n        \"time\":\"2023-09-30\",\\n        \"et\":2.389\\n    },\\n    {\\n        \"time\":\"2023-10-01\",\\n        \"et\":2.687\\n    },\\n    {\\n        \"time\":\"2023-10-02\",\\n        \"et\":2.792\\n    },\\n    {\\n        \"time\":\"2023-10-03\",\\n        \"et\":3.252\\n    },\\n    {\\n        \"time\":\"2023-10-04\",\\n        \"et\":4.033\\n    }\\n]'"
      ]
     },
     "execution_count": 10,
     "metadata": {},
     "output_type": "execute_result"
    }
   ],
   "source": [
    "resp.text"
   ]
  }
 ],
 "metadata": {
  "colab": {
   "collapsed_sections": [
    "SSLxkoIDcFUQ"
   ],
   "provenance": []
  },
  "kernelspec": {
   "display_name": "footprints",
   "language": "python",
   "name": "python3"
  },
  "language_info": {
   "name": "python",
   "version": "3.12.3"
  }
 },
 "nbformat": 4,
 "nbformat_minor": 0
}
