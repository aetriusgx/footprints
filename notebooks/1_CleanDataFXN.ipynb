{
 "cells": [
  {
   "cell_type": "markdown",
   "metadata": {
    "id": "au6bQOqNIN4v"
   },
   "source": [
    "### Mount Drive"
   ]
  },
  {
   "cell_type": "code",
   "execution_count": null,
   "metadata": {
    "colab": {
     "base_uri": "https://localhost:8080/"
    },
    "executionInfo": {
     "elapsed": 1569,
     "status": "ok",
     "timestamp": 1730483435618,
     "user": {
      "displayName": "Brandon San Luis",
      "userId": "05788026484260503985"
     },
     "user_tz": 420
    },
    "id": "DHBV8VcHIR1e",
    "outputId": "d3e5cf29-858a-4ef3-bf92-5d365d873ff6"
   },
   "outputs": [
    {
     "name": "stdout",
     "output_type": "stream",
     "text": [
      "Drive already mounted at /content/drive; to attempt to forcibly remount, call drive.mount(\"/content/drive\", force_remount=True).\n"
     ]
    }
   ],
   "source": [
    "try:\n",
    "    from google.colab import drive # type: ignore\n",
    "    drive.mount('/content/drive')\n",
    "except ImportError:\n",
    "    pass"
   ]
  },
  {
   "cell_type": "markdown",
   "metadata": {
    "id": "k-CAcXbMJCj-"
   },
   "source": [
    "### Import Dependencies"
   ]
  },
  {
   "cell_type": "code",
   "execution_count": null,
   "metadata": {
    "executionInfo": {
     "elapsed": 835,
     "status": "ok",
     "timestamp": 1730483436449,
     "user": {
      "displayName": "Brandon San Luis",
      "userId": "05788026484260503985"
     },
     "user_tz": 420
    },
    "id": "ugOJFXqbJFpA"
   },
   "outputs": [],
   "source": [
    "import pandas as pd\n",
    "import pathlib"
   ]
  },
  {
   "cell_type": "markdown",
   "metadata": {
    "id": "cJSXIFZEJs8G"
   },
   "source": [
    "### Define Directories"
   ]
  },
  {
   "cell_type": "code",
   "execution_count": null,
   "metadata": {
    "colab": {
     "base_uri": "https://localhost:8080/"
    },
    "executionInfo": {
     "elapsed": 9,
     "status": "ok",
     "timestamp": 1730483436450,
     "user": {
      "displayName": "Brandon San Luis",
      "userId": "05788026484260503985"
     },
     "user_tz": 420
    },
    "id": "fPItaKqvJ099",
    "outputId": "c174acc9-cdfc-4d78-e174-49186087f7c1"
   },
   "outputs": [
    {
     "name": "stdout",
     "output_type": "stream",
     "text": [
      "Input file is: /content/drive/MyDrive/B_SanLuis/Data/0_Input_Datasets/Lettuce/Lettuce2024_30min_gapfilled.csv\n",
      "Output file is: /content/drive/MyDrive/B_SanLuis/Data/1_Intermediate_Datasets/Lettuce/Lettuce2024FP.csv\n"
     ]
    }
   ],
   "source": [
    "colab_data = pathlib.Path('/content/home/MyDrive/B_SanLuis/Data')\n",
    "local_data = pathlib.Path(\"../data/\")\n",
    "\n",
    "DIR = colab_data if colab_data.exists() else local_data\n",
    "\n",
    "CropConcern = 'Lettuce2024'\n",
    "in_file = ''\n",
    "out_file = ''\n",
    "\n",
    "if CropConcern == 'Broccoli2023':\n",
    "  in_file = DIR / '/0_Input_Datasets/Broccoli/Broccoli2023_30min_piqc.csv'\n",
    "  out_file = DIR / '/1_Intermediate_Datasets/Broccoli/Broccoli2023FP.csv'\n",
    "\n",
    "if CropConcern == 'Lettuce2023':\n",
    "  in_file = DIR / '/0_Input_Datasets/Lettuce/Lettuce2023_30min_gapfilled.csv'\n",
    "  out_file = DIR / '/1_Intermediate_Datasets/Lettuce/Lettuce2023FP.csv'\n",
    "\n",
    "if CropConcern == 'Lettuce2024':\n",
    "  in_file = DIR / '/0_Input_Datasets/Lettuce/Lettuce2024_30min_gapfilled.csv'\n",
    "  out_file = DIR / '/1_Intermediate_Datasets/Lettuce/Lettuce2024FP.csv'\n",
    "\n",
    "print('Input file is:', str(in_file))\n",
    "print('Output file is:', str(out_file))"
   ]
  },
  {
   "cell_type": "markdown",
   "metadata": {
    "id": "72xpnMFLKO3Q"
   },
   "source": [
    "### Function"
   ]
  },
  {
   "cell_type": "code",
   "execution_count": 4,
   "metadata": {
    "executionInfo": {
     "elapsed": 6,
     "status": "ok",
     "timestamp": 1730483436450,
     "user": {
      "displayName": "Brandon San Luis",
      "userId": "05788026484260503985"
     },
     "user_tz": 420
    },
    "id": "y95hPumkCf8L"
   },
   "outputs": [],
   "source": [
    "def cleandataFXN(crop_df):\n",
    "\n",
    "    zm = 2.0  # Height from ground in meters\n",
    "    d = 0.335  # Displacement in meters\n",
    "    z0 = 0.1  # Roughness length in meters\n",
    "\n",
    "    # Read CSV\n",
    "    # df = pd.read_csv(crop_df)\n",
    "\n",
    "    # Select and copy columns\n",
    "    crop1_df = crop_df[['date_time', 'WS', 'USTAR', 'WD', 'V_SIGMA', 'MO_LENGTH']].copy()\n",
    "\n",
    "    # Add columns\n",
    "    crop1_df['zm'] = zm\n",
    "    crop1_df['d'] = d\n",
    "    crop1_df['z0'] = z0\n",
    "\n",
    "    # Convert to datetime format\n",
    "    crop1_df['date_time'] = pd.to_datetime(crop1_df['date_time'])\n",
    "\n",
    "    # Separate year month day etc\n",
    "    crop1_df['yyyy'] = crop1_df['date_time'].dt.year\n",
    "    crop1_df['mm'] = crop1_df['date_time'].dt.month\n",
    "    crop1_df['day'] = crop1_df['date_time'].dt.day\n",
    "    crop1_df['HH'] = crop1_df['date_time'].dt.hour\n",
    "    crop1_df['MM'] = crop1_df['date_time'].dt.minute\n",
    "\n",
    "    # Rearrange columns\n",
    "    crop2_df = crop1_df[['yyyy', 'mm', 'day', 'HH', 'MM', 'zm', 'd', 'z0', 'WS', 'MO_LENGTH', 'V_SIGMA', 'USTAR', 'WD']].copy()\n",
    "\n",
    "    # Rename columns\n",
    "    crop3_df = crop2_df.rename(columns={'WS': 'u_mean', 'MO_LENGTH': 'L', 'V_SIGMA': 'sigma_v', 'USTAR': 'u_star', 'WD': 'wind_dir'})\n",
    "\n",
    "    # Subset the data to only include hours between 9 AM and 3 PM (inclusive)\n",
    "    cropFinal_df = crop3_df[(crop3_df['HH'] > 8) & (crop3_df['HH'] < 16)]\n",
    "\n",
    "    return cropFinal_df"
   ]
  },
  {
   "cell_type": "markdown",
   "metadata": {
    "id": "_IwcmvsNLgHe"
   },
   "source": [
    "### Run FXN and Save to Folder\n"
   ]
  },
  {
   "cell_type": "code",
   "execution_count": 5,
   "metadata": {
    "collapsed": true,
    "executionInfo": {
     "elapsed": 6,
     "status": "ok",
     "timestamp": 1730483436451,
     "user": {
      "displayName": "Brandon San Luis",
      "userId": "05788026484260503985"
     },
     "user_tz": 420
    },
    "id": "cJy7CsNMDUkX"
   },
   "outputs": [],
   "source": [
    "df = pd.read_csv(in_file)"
   ]
  },
  {
   "cell_type": "code",
   "execution_count": 6,
   "metadata": {
    "collapsed": true,
    "executionInfo": {
     "elapsed": 198,
     "status": "ok",
     "timestamp": 1730483436644,
     "user": {
      "displayName": "Brandon San Luis",
      "userId": "05788026484260503985"
     },
     "user_tz": 420
    },
    "id": "xj2cXEWfL7RU"
   },
   "outputs": [],
   "source": [
    "clean_df = cleandataFXN(df)"
   ]
  },
  {
   "cell_type": "code",
   "execution_count": 7,
   "metadata": {
    "executionInfo": {
     "elapsed": 1234,
     "status": "ok",
     "timestamp": 1730483437873,
     "user": {
      "displayName": "Brandon San Luis",
      "userId": "05788026484260503985"
     },
     "user_tz": 420
    },
    "id": "Y8ygKFa7Mguq"
   },
   "outputs": [],
   "source": [
    "clean_df.to_csv(out_file, index=False)"
   ]
  },
  {
   "cell_type": "markdown",
   "metadata": {
    "id": "usFb8A-qVErg"
   },
   "source": [
    "### Headers\n"
   ]
  },
  {
   "cell_type": "markdown",
   "metadata": {
    "id": "3glf8WK6VHaf"
   },
   "source": [
    "yyyy - year\n",
    "mm   - month [1-12]\n",
    "day  - day [1-31]\n",
    "HH   - hour [1-24]\n",
    "MM   - minutes [0:30]\n",
    "zm   - height from ground m [2.0]\n",
    "d    - displacement m [.67*.5]\n",
    "z0   - roughness length m [.1]\n",
    "u_mean - avg wind speed m/s *** used WS\n",
    "L    - obukhov length m *** used MO_LENGTH\n",
    "sigma_v - lateral velocity m/s *** used v_sigma\n",
    "u_star - friction velocity m/s *** used USTAR\n",
    "wind_dir - wind direction in deg *** used WD"
   ]
  }
 ],
 "metadata": {
  "colab": {
   "provenance": []
  },
  "kernelspec": {
   "display_name": "Python 3",
   "name": "python3"
  },
  "language_info": {
   "name": "python"
  }
 },
 "nbformat": 4,
 "nbformat_minor": 0
}
